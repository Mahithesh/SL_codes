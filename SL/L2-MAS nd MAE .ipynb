{
 "cells": [
  {
   "cell_type": "code",
   "execution_count": 1,
   "id": "69ef6a6d-1657-4d1f-9139-b08f41c4ae40",
   "metadata": {},
   "outputs": [
    {
     "name": "stdout",
     "output_type": "stream",
     "text": [
      "for W = 4 is 181.0\n",
      "for W = 1.2 is 70.68\n",
      "for W = 0.9 is 104.9\n",
      "for W = 6 is 735.0\n"
     ]
    }
   ],
   "source": [
    "def MAS(x,y,z):\n",
    "    for k in range(len(z)):\n",
    "        sum = 0\n",
    "        w = z[k]\n",
    "        for i in range(len(y)):\n",
    "            sum += (y[i]-(w*x[i]))**2\n",
    "        Res.append(abs(round(sum/len(y),2)))\n",
    "        print(f\"for W = {w} is {Res[k]}\")\n",
    "        \n",
    "\n",
    "\n",
    "W_list = [4,1.2,0.9,6]\n",
    "y = [13,15,19,17]\n",
    "x = [2,7,8,9]\n",
    "Res = []\n",
    "MAS(x,y,W_list)"
   ]
  },
  {
   "cell_type": "code",
   "execution_count": 3,
   "id": "22870821-77e3-448d-8646-fc409681201e",
   "metadata": {},
   "outputs": [
    {
     "name": "stdout",
     "output_type": "stream",
     "text": [
      "for W = 4 got 10.0\n",
      "for W = 1.2 got 8.2\n",
      "for W = 0.9 got 10.15\n",
      "for W = 6 got 23.0\n"
     ]
    }
   ],
   "source": [
    "def MAE(x,y,z):\n",
    "    for k in range(len(z)):\n",
    "        sum = 0\n",
    "        w = z[k]\n",
    "        for i in range(len(y)):\n",
    "            sum += (y[i]-(w*x[i]))\n",
    "        Res.append(abs(round(sum/len(x),2)))\n",
    "        print(f\"for W = {w} got {Res[k]}\")\n",
    "\n",
    "\n",
    "\n",
    "W_list = [4,1.2,0.9,6]\n",
    "y = [13,15,19,17]\n",
    "x = [2,7,8,9]\n",
    "Res = []\n",
    "MAE(x,y,W_list)"
   ]
  },
  {
   "cell_type": "code",
   "execution_count": null,
   "id": "9f9b448e-0e1f-4d53-be8b-5357b20ee5fa",
   "metadata": {},
   "outputs": [],
   "source": []
  }
 ],
 "metadata": {
  "kernelspec": {
   "display_name": "Python 3 (ipykernel)",
   "language": "python",
   "name": "python3"
  },
  "language_info": {
   "codemirror_mode": {
    "name": "ipython",
    "version": 3
   },
   "file_extension": ".py",
   "mimetype": "text/x-python",
   "name": "python",
   "nbconvert_exporter": "python",
   "pygments_lexer": "ipython3",
   "version": "3.11.7"
  }
 },
 "nbformat": 4,
 "nbformat_minor": 5
}
