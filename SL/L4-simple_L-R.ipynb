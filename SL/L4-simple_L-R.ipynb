{
 "cells": [
  {
   "cell_type": "code",
   "execution_count": 1,
   "id": "ccbcaccf-5769-4e20-a22e-19b8c992dc92",
   "metadata": {},
   "outputs": [],
   "source": [
    "import pandas as pd\n",
    "import numpy as np\n",
    "import matplotlib.pyplot as plt"
   ]
  },
  {
   "cell_type": "code",
   "execution_count": 3,
   "id": "3430bf3b-3613-4149-b568-cc4cb7316f8b",
   "metadata": {},
   "outputs": [],
   "source": [
    "df = pd.read_csv(\"Salary_Data.csv\")"
   ]
  },
  {
   "cell_type": "code",
   "execution_count": 5,
   "id": "d7b7689c-1721-48c1-aecd-0fd79ec07005",
   "metadata": {
    "scrolled": true
   },
   "outputs": [
    {
     "data": {
      "text/plain": [
       "(      Salary\n",
       " 0    39343.0\n",
       " 1    46205.0\n",
       " 2    37731.0\n",
       " 3    43525.0\n",
       " 4    39891.0\n",
       " 5    56642.0\n",
       " 6    60150.0\n",
       " 7    54445.0\n",
       " 8    64445.0\n",
       " 9    57189.0\n",
       " 10   63218.0\n",
       " 11   55794.0\n",
       " 12   56957.0\n",
       " 13   57081.0\n",
       " 14   61111.0\n",
       " 15   67938.0\n",
       " 16   66029.0\n",
       " 17   83088.0\n",
       " 18   81363.0\n",
       " 19   93940.0\n",
       " 20   91738.0\n",
       " 21   98273.0\n",
       " 22  101302.0\n",
       " 23  113812.0\n",
       " 24  109431.0\n",
       " 25  105582.0\n",
       " 26  116969.0\n",
       " 27  112635.0\n",
       " 28  122391.0\n",
       " 29  121872.0,\n",
       "     YearsExperience\n",
       " 0               1.1\n",
       " 1               1.3\n",
       " 2               1.5\n",
       " 3               2.0\n",
       " 4               2.2\n",
       " 5               2.9\n",
       " 6               3.0\n",
       " 7               3.2\n",
       " 8               3.2\n",
       " 9               3.7\n",
       " 10              3.9\n",
       " 11              4.0\n",
       " 12              4.0\n",
       " 13              4.1\n",
       " 14              4.5\n",
       " 15              4.9\n",
       " 16              5.1\n",
       " 17              5.3\n",
       " 18              5.9\n",
       " 19              6.0\n",
       " 20              6.8\n",
       " 21              7.1\n",
       " 22              7.9\n",
       " 23              8.2\n",
       " 24              8.7\n",
       " 25              9.0\n",
       " 26              9.5\n",
       " 27              9.6\n",
       " 28             10.3\n",
       " 29             10.5)"
      ]
     },
     "execution_count": 5,
     "metadata": {},
     "output_type": "execute_result"
    }
   ],
   "source": [
    "#divide the data frame into two data frames one data will have the independent features and another df contains dependent features\n",
    "x = df[[\"Salary\"]]\n",
    "y = df[[\"YearsExperience\"]]\n",
    "x,y"
   ]
  },
  {
   "cell_type": "raw",
   "id": "e7836777-b796-4653-a525-9d2f33114b88",
   "metadata": {},
   "source": [
    "* divide the both data frames into train data and test data \n",
    "* train is the one from which we will be trainning our model\n",
    "* test is the one from which we will be testing our model\n",
    "* we will be using the 80% data for the training and 20% data for the testing purpose for this we import a lib name called train_test_split"
   ]
  },
  {
   "cell_type": "code",
   "execution_count": 7,
   "id": "5c746d6b-1781-4348-8ced-ab61c9152b1e",
   "metadata": {},
   "outputs": [],
   "source": [
    "from sklearn.model_selection import train_test_split"
   ]
  },
  {
   "cell_type": "raw",
   "id": "c20636bd-fa32-49c8-8cee-882d3ef75dc4",
   "metadata": {},
   "source": [
    "# random = 1 is used to controll randomness of the the data set which that no matters  how \n",
    "#many iteration we are doing the train data will reamian train data for all the iteration \n",
    "#and test data will remain the test data for all the iteraions    "
   ]
  },
  {
   "cell_type": "code",
   "execution_count": 8,
   "id": "b44e201a-1108-49e7-a4d0-b008deba017e",
   "metadata": {},
   "outputs": [],
   "source": [
    "x_train,x_test,y_train,y_test = train_test_split(x,y,test_size = 0.3 , random_state = 1) "
   ]
  },
  {
   "cell_type": "markdown",
   "id": "defb7fad-7a39-42b0-8f64-289693a8f669",
   "metadata": {},
   "source": [
    "#split the dataframes now will a prepare a LR model on our train data set\n",
    "#for building a model we will LINEAR REGRESSION LIB"
   ]
  },
  {
   "cell_type": "code",
   "execution_count": 11,
   "id": "e02c140f-53fc-40ce-abd5-01a84900669f",
   "metadata": {},
   "outputs": [],
   "source": [
    "from sklearn.linear_model import LinearRegression"
   ]
  },
  {
   "cell_type": "code",
   "execution_count": 13,
   "id": "1f7d17ac-1782-42b3-b49e-523c2d827c92",
   "metadata": {},
   "outputs": [
    {
     "data": {
      "text/html": [
       "<style>#sk-container-id-1 {color: black;background-color: white;}#sk-container-id-1 pre{padding: 0;}#sk-container-id-1 div.sk-toggleable {background-color: white;}#sk-container-id-1 label.sk-toggleable__label {cursor: pointer;display: block;width: 100%;margin-bottom: 0;padding: 0.3em;box-sizing: border-box;text-align: center;}#sk-container-id-1 label.sk-toggleable__label-arrow:before {content: \"▸\";float: left;margin-right: 0.25em;color: #696969;}#sk-container-id-1 label.sk-toggleable__label-arrow:hover:before {color: black;}#sk-container-id-1 div.sk-estimator:hover label.sk-toggleable__label-arrow:before {color: black;}#sk-container-id-1 div.sk-toggleable__content {max-height: 0;max-width: 0;overflow: hidden;text-align: left;background-color: #f0f8ff;}#sk-container-id-1 div.sk-toggleable__content pre {margin: 0.2em;color: black;border-radius: 0.25em;background-color: #f0f8ff;}#sk-container-id-1 input.sk-toggleable__control:checked~div.sk-toggleable__content {max-height: 200px;max-width: 100%;overflow: auto;}#sk-container-id-1 input.sk-toggleable__control:checked~label.sk-toggleable__label-arrow:before {content: \"▾\";}#sk-container-id-1 div.sk-estimator input.sk-toggleable__control:checked~label.sk-toggleable__label {background-color: #d4ebff;}#sk-container-id-1 div.sk-label input.sk-toggleable__control:checked~label.sk-toggleable__label {background-color: #d4ebff;}#sk-container-id-1 input.sk-hidden--visually {border: 0;clip: rect(1px 1px 1px 1px);clip: rect(1px, 1px, 1px, 1px);height: 1px;margin: -1px;overflow: hidden;padding: 0;position: absolute;width: 1px;}#sk-container-id-1 div.sk-estimator {font-family: monospace;background-color: #f0f8ff;border: 1px dotted black;border-radius: 0.25em;box-sizing: border-box;margin-bottom: 0.5em;}#sk-container-id-1 div.sk-estimator:hover {background-color: #d4ebff;}#sk-container-id-1 div.sk-parallel-item::after {content: \"\";width: 100%;border-bottom: 1px solid gray;flex-grow: 1;}#sk-container-id-1 div.sk-label:hover label.sk-toggleable__label {background-color: #d4ebff;}#sk-container-id-1 div.sk-serial::before {content: \"\";position: absolute;border-left: 1px solid gray;box-sizing: border-box;top: 0;bottom: 0;left: 50%;z-index: 0;}#sk-container-id-1 div.sk-serial {display: flex;flex-direction: column;align-items: center;background-color: white;padding-right: 0.2em;padding-left: 0.2em;position: relative;}#sk-container-id-1 div.sk-item {position: relative;z-index: 1;}#sk-container-id-1 div.sk-parallel {display: flex;align-items: stretch;justify-content: center;background-color: white;position: relative;}#sk-container-id-1 div.sk-item::before, #sk-container-id-1 div.sk-parallel-item::before {content: \"\";position: absolute;border-left: 1px solid gray;box-sizing: border-box;top: 0;bottom: 0;left: 50%;z-index: -1;}#sk-container-id-1 div.sk-parallel-item {display: flex;flex-direction: column;z-index: 1;position: relative;background-color: white;}#sk-container-id-1 div.sk-parallel-item:first-child::after {align-self: flex-end;width: 50%;}#sk-container-id-1 div.sk-parallel-item:last-child::after {align-self: flex-start;width: 50%;}#sk-container-id-1 div.sk-parallel-item:only-child::after {width: 0;}#sk-container-id-1 div.sk-dashed-wrapped {border: 1px dashed gray;margin: 0 0.4em 0.5em 0.4em;box-sizing: border-box;padding-bottom: 0.4em;background-color: white;}#sk-container-id-1 div.sk-label label {font-family: monospace;font-weight: bold;display: inline-block;line-height: 1.2em;}#sk-container-id-1 div.sk-label-container {text-align: center;}#sk-container-id-1 div.sk-container {/* jupyter's `normalize.less` sets `[hidden] { display: none; }` but bootstrap.min.css set `[hidden] { display: none !important; }` so we also need the `!important` here to be able to override the default hidden behavior on the sphinx rendered scikit-learn.org. See: https://github.com/scikit-learn/scikit-learn/issues/21755 */display: inline-block !important;position: relative;}#sk-container-id-1 div.sk-text-repr-fallback {display: none;}</style><div id=\"sk-container-id-1\" class=\"sk-top-container\"><div class=\"sk-text-repr-fallback\"><pre>LinearRegression()</pre><b>In a Jupyter environment, please rerun this cell to show the HTML representation or trust the notebook. <br />On GitHub, the HTML representation is unable to render, please try loading this page with nbviewer.org.</b></div><div class=\"sk-container\" hidden><div class=\"sk-item\"><div class=\"sk-estimator sk-toggleable\"><input class=\"sk-toggleable__control sk-hidden--visually\" id=\"sk-estimator-id-1\" type=\"checkbox\" checked><label for=\"sk-estimator-id-1\" class=\"sk-toggleable__label sk-toggleable__label-arrow\">LinearRegression</label><div class=\"sk-toggleable__content\"><pre>LinearRegression()</pre></div></div></div></div></div>"
      ],
      "text/plain": [
       "LinearRegression()"
      ]
     },
     "execution_count": 13,
     "metadata": {},
     "output_type": "execute_result"
    }
   ],
   "source": [
    "model  = LinearRegression()\n",
    "model.fit(x_train,y_train)"
   ]
  },
  {
   "cell_type": "code",
   "execution_count": 15,
   "id": "8a882095-5e85-4ec3-98c4-ab2c3c7c3559",
   "metadata": {},
   "outputs": [],
   "source": [
    "x_pred = model.predict(x_train)\n",
    "y_pred = model.predict(x_test)"
   ]
  },
  {
   "cell_type": "code",
   "execution_count": null,
   "id": "438edb89-26a3-4806-bc2c-e0fe4c848a2c",
   "metadata": {},
   "outputs": [],
   "source": [
    "#after building a LR model we will make prediction on test data and we will calculate the coefficient and intercept "
   ]
  },
  {
   "cell_type": "code",
   "execution_count": 19,
   "id": "fd6799e8-ef1a-4e2e-8eff-974e88e7f1cf",
   "metadata": {},
   "outputs": [
    {
     "data": {
      "text/plain": [
       "array([[0.00010441]])"
      ]
     },
     "execution_count": 19,
     "metadata": {},
     "output_type": "execute_result"
    }
   ],
   "source": [
    "model.coef_"
   ]
  },
  {
   "cell_type": "code",
   "execution_count": 21,
   "id": "2d60d06b-7811-43ca-b2c7-636235afb586",
   "metadata": {},
   "outputs": [
    {
     "data": {
      "text/plain": [
       "array([-2.52251062])"
      ]
     },
     "execution_count": 21,
     "metadata": {},
     "output_type": "execute_result"
    }
   ],
   "source": [
    "model.intercept_"
   ]
  },
  {
   "cell_type": "code",
   "execution_count": 23,
   "id": "06306bf7-3644-46bb-9d78-69d0be0a3743",
   "metadata": {},
   "outputs": [
    {
     "data": {
      "text/plain": [
       "0.9242662549548135"
      ]
     },
     "execution_count": 23,
     "metadata": {},
     "output_type": "execute_result"
    }
   ],
   "source": [
    "model.score(x_test,y_test) # this will give the accuracy of the model"
   ]
  },
  {
   "cell_type": "code",
   "execution_count": 33,
   "id": "24d579a3-7c2b-4075-b361-ccfb0304a88a",
   "metadata": {},
   "outputs": [
    {
     "data": {
      "image/png": "[encoded data removed]",
      "text/plain": [
       "<Figure size 640x480 with 1 Axes>"
      ]
     },
     "metadata": {},
     "output_type": "display_data"
    }
   ],
   "source": [
    "plt.scatter(x_train,y_train,color = \"Green\")\n",
    "plt.plot(x_train,x_pred,color = \"Red\")\n",
    "#plt.plot(x_train,y_train,color = \"Yellow\")\n",
    "plt.title(\"salary Vs Experience\")\n",
    "plt.ylabel(\"years of exp\")\n",
    "plt.xlabel(\"Salary\")\n",
    "plt.show()"
   ]
  },
  {
   "cell_type": "raw",
   "id": "84175635-c7ea-4675-a8d1-dd64ba71af36",
   "metadata": {},
   "source": [
    "import numpy as np\n",
    "import pandas as pd\n",
    "import matplotlib.pyplot as plt\n",
    "* seperate the ind and dependent\n",
    "y = dependent\n",
    "x= independent\n",
    "\n",
    "from sklearn.model_selection import train_test_split\n",
    "x_tr,x_test,y_tr,y_test = train_test_split(x,y,test_size = 0.2 , random_state = 1)\n",
    "\n",
    "from sklearn.linear_model import LinearRegression\n",
    "model = LinearRegression()\n",
    "model.fit(x_train,y_train)\n",
    "x_predict = model.predict(x_train)\n",
    "y_predict = model.predict(x_test)\n",
    "\n",
    "model.coef_\n",
    "model.intercept_\n",
    "model.score(x_test,y_test)\n"
   ]
  },
  {
   "cell_type": "code",
   "execution_count": null,
   "id": "28ad2f74-a5e7-4a89-acbf-6e70d89d0e8f",
   "metadata": {},
   "outputs": [],
   "source": []
  }
 ],
 "metadata": {
  "kernelspec": {
   "display_name": "Python 3 (ipykernel)",
   "language": "python",
   "name": "python3"
  },
  "language_info": {
   "codemirror_mode": {
    "name": "ipython",
    "version": 3
   },
   "file_extension": ".py",
   "mimetype": "text/x-python",
   "name": "python",
   "nbconvert_exporter": "python",
   "pygments_lexer": "ipython3",
   "version": "3.11.7"
  }
 },
 "nbformat": 4,
 "nbformat_minor": 5
}
