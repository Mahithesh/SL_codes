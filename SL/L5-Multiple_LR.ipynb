{
 "cells": [
  {
   "cell_type": "raw",
   "id": "0e0fc35b-0720-42b4-b6d2-805e6e45e656",
   "metadata": {},
   "source": [
    "prepare a machine model for prediction of resale price of used cars"
   ]
  },
  {
   "cell_type": "code",
   "execution_count": 5,
   "id": "70c532ae-b284-45b4-928e-8d0b17fea310",
   "metadata": {},
   "outputs": [],
   "source": [
    "import numpy as np\n",
    "import pandas as pd\n",
    "import matplotlib.pyplot as plt"
   ]
  },
  {
   "cell_type": "code",
   "execution_count": 7,
   "id": "0c2427ad-7f64-4ee6-a507-5f45c9df8781",
   "metadata": {},
   "outputs": [],
   "source": [
    "df = pd.read_csv(\"cars24-car-price-cleaned.csv\")"
   ]
  },
  {
   "cell_type": "code",
   "execution_count": null,
   "id": "f79c573a-dab7-4436-a515-372fa7cae450",
   "metadata": {
    "scrolled": true
   },
   "outputs": [],
   "source": [
    "df.info() #this used to tell the structure of the dataframe that is how many total columns are there, and nature of that"
   ]
  },
  {
   "cell_type": "code",
   "execution_count": 11,
   "id": "4ba809b4-ad6e-47f1-8f00-85a8be299f79",
   "metadata": {},
   "outputs": [],
   "source": [
    "y = df[\"selling_price\"]"
   ]
  },
  {
   "cell_type": "code",
   "execution_count": null,
   "id": "feb7299e-7774-41b4-abdc-2e68a9a07aa3",
   "metadata": {},
   "outputs": [],
   "source": [
    "#nunique command will give the unique values in present particular column"
   ]
  },
  {
   "cell_type": "code",
   "execution_count": 15,
   "id": "6288f710-dda7-4b98-a349-e1900bd58e81",
   "metadata": {},
   "outputs": [
    {
     "data": {
      "text/plain": [
       "41"
      ]
     },
     "execution_count": 15,
     "metadata": {},
     "output_type": "execute_result"
    }
   ],
   "source": [
    "df[\"make\"].nunique()"
   ]
  },
  {
   "cell_type": "code",
   "execution_count": 19,
   "id": "41538740-39cd-4671-98c2-27975ffa6f4b",
   "metadata": {},
   "outputs": [
    {
     "data": {
      "text/plain": [
       "3233"
      ]
     },
     "execution_count": 19,
     "metadata": {},
     "output_type": "execute_result"
    }
   ],
   "source": [
    "df[\"model\"].nunique()"
   ]
  },
  {
   "cell_type": "code",
   "execution_count": null,
   "id": "39641dfa-c00d-4999-887c-2d7dee826666",
   "metadata": {},
   "outputs": [],
   "source": [
    "# value_counts() it will return the total value associated with the unique value"
   ]
  },
  {
   "cell_type": "code",
   "execution_count": 32,
   "id": "d33843c4-8554-40fc-a140-5d60512bb56b",
   "metadata": {},
   "outputs": [
    {
     "data": {
      "text/plain": [
       "model\n",
       "SWIFT DZIRE VDI              288\n",
       "ALTO 800 LXI                 189\n",
       "WAGON R VXI                  164\n",
       "SWIFT VDI                    150\n",
       "SWIFT DZIRE VXI              136\n",
       "                            ... \n",
       "XUV300 W6 DIESEL               1\n",
       "NANO STD BS IV                 1\n",
       "FABIA 1.2 TDI ACTIVE           1\n",
       "FIESTA PETROL STYLE            1\n",
       "YARIS V OPTIONAL CVT BSIV      1\n",
       "Name: count, Length: 3233, dtype: int64"
      ]
     },
     "execution_count": 32,
     "metadata": {},
     "output_type": "execute_result"
    }
   ],
   "source": [
    "df[\"model\"].value_counts()"
   ]
  },
  {
   "cell_type": "code",
   "execution_count": null,
   "id": "cb037821-d233-4e9b-8bba-85458e0a13ac",
   "metadata": {},
   "outputs": [],
   "source": [
    "#steps for multiple LR"
   ]
  },
  {
   "cell_type": "markdown",
   "id": "7bd58235-c801-421d-9393-4d340d0f67ea",
   "metadata": {},
   "source": [
    "step 1\n",
    "Multiple LR before dividing the dataframe into two parts that is target and input variable we have to check wether our dataframe contains any \n",
    "categorical data\n",
    "if our data contains categorical data we have to convert into continuous data by encoding\n",
    "when the number of values in the categorical col are limited or only very less then we make use of one hot encoding but if the \n",
    "catrgorical has large number og values then we make use of target variable encoding"
   ]
  },
  {
   "cell_type": "raw",
   "id": "64e6bbca-1318-489f-b8bd-fb40b102a0e9",
   "metadata": {},
   "source": [
    "bcz our ML model is mathematical model and it only understands the digits"
   ]
  },
  {
   "cell_type": "raw",
   "id": "b430f71d-7405-46f6-9ceb-bebe478610b1",
   "metadata": {},
   "source": [
    "target varible encoding is repalcing categorical column by the mean of target varible by using the grouping"
   ]
  },
  {
   "cell_type": "code",
   "execution_count": 19,
   "id": "51bc17c6-b160-44c7-8d2c-f8881069f9d7",
   "metadata": {},
   "outputs": [],
   "source": [
    "#grouping\n",
    "df[\"make\"] = df.groupby(\"make\")[\"selling_price\"].transform(\"mean\")"
   ]
  },
  {
   "cell_type": "code",
   "execution_count": 21,
   "id": "f47b6d8a-b794-4dd6-b030-fa3df03a436b",
   "metadata": {},
   "outputs": [],
   "source": [
    "df[\"model\"] = df.groupby(\"model\")[\"selling_price\"].transform(\"mean\")"
   ]
  },
  {
   "cell_type": "code",
   "execution_count": 25,
   "id": "d2789dec-e0ca-44e8-ad9e-b1482b53f9a0",
   "metadata": {},
   "outputs": [],
   "source": [
    "from sklearn.model_selection import train_test_split\n",
    "from sklearn.preprocessing import MinMaxScaler\n",
    "#minmaxscaler is lib which is used for features scaling"
   ]
  },
  {
   "cell_type": "code",
   "execution_count": 27,
   "id": "3e1b6cf8-e470-41a3-8c33-b46b48b3a031",
   "metadata": {},
   "outputs": [],
   "source": [
    "scaler = MinMaxScaler()\n",
    "df1 = pd.DataFrame(scaler.fit_transform(df),columns = df.columns)"
   ]
  },
  {
   "cell_type": "raw",
   "id": "da9c1e1d-a59e-41b5-9cd3-0ae56506edee",
   "metadata": {},
   "source": [
    "step 3 feature scaling or normalization\n",
    "feature scaling means we have to scale all features in same range that means we will be keeping all feature in the range \n",
    "0 to 1 so that our ML MODEL doesn't create perception a bcz all feature are impt to us"
   ]
  },
  {
   "cell_type": "code",
   "execution_count": 29,
   "id": "65ec7c43-c293-4011-a718-a97db52e4534",
   "metadata": {},
   "outputs": [],
   "source": [
    "from sklearn.linear_model import LinearRegression"
   ]
  },
  {
   "cell_type": "code",
   "execution_count": 31,
   "id": "7aac12cb-67fe-4c3d-a0a3-086e5a1d2644",
   "metadata": {},
   "outputs": [
    {
     "data": {
      "text/plain": [
       "((19820, 17), (19820,))"
      ]
     },
     "execution_count": 31,
     "metadata": {},
     "output_type": "execute_result"
    }
   ],
   "source": [
    "#seperating the dependent and independent \n",
    "y = df1[\"selling_price\"]\n",
    "x = df1.drop(\"selling_price\",axis = 1) #axis = 0 means rows will be dropped if 1 then column will drop\n",
    "x.shape,y.shape #the shape command is used to tell the shape of the data frame that how many rows and cols are present "
   ]
  },
  {
   "cell_type": "code",
   "execution_count": 33,
   "id": "52fbf1e0-1952-4bce-a92c-b60df624ed6f",
   "metadata": {},
   "outputs": [
    {
     "data": {
      "text/plain": [
       "((13874, 17), (5946, 17), (13874,), (5946,))"
      ]
     },
     "execution_count": 33,
     "metadata": {},
     "output_type": "execute_result"
    }
   ],
   "source": [
    "x_train,x_test,y_train,y_test = train_test_split(x,y,test_size = 0.3 , random_state = 1)\n",
    "x_train.shape,x_test.shape,y_train.shape,y_test.shape"
   ]
  },
  {
   "cell_type": "code",
   "execution_count": 35,
   "id": "1ce9167c-1eca-41e4-833c-b8aa1d83b060",
   "metadata": {},
   "outputs": [
    {
     "data": {
      "text/html": [
       "<style>#sk-container-id-1 {color: black;background-color: white;}#sk-container-id-1 pre{padding: 0;}#sk-container-id-1 div.sk-toggleable {background-color: white;}#sk-container-id-1 label.sk-toggleable__label {cursor: pointer;display: block;width: 100%;margin-bottom: 0;padding: 0.3em;box-sizing: border-box;text-align: center;}#sk-container-id-1 label.sk-toggleable__label-arrow:before {content: \"▸\";float: left;margin-right: 0.25em;color: #696969;}#sk-container-id-1 label.sk-toggleable__label-arrow:hover:before {color: black;}#sk-container-id-1 div.sk-estimator:hover label.sk-toggleable__label-arrow:before {color: black;}#sk-container-id-1 div.sk-toggleable__content {max-height: 0;max-width: 0;overflow: hidden;text-align: left;background-color: #f0f8ff;}#sk-container-id-1 div.sk-toggleable__content pre {margin: 0.2em;color: black;border-radius: 0.25em;background-color: #f0f8ff;}#sk-container-id-1 input.sk-toggleable__control:checked~div.sk-toggleable__content {max-height: 200px;max-width: 100%;overflow: auto;}#sk-container-id-1 input.sk-toggleable__control:checked~label.sk-toggleable__label-arrow:before {content: \"▾\";}#sk-container-id-1 div.sk-estimator input.sk-toggleable__control:checked~label.sk-toggleable__label {background-color: #d4ebff;}#sk-container-id-1 div.sk-label input.sk-toggleable__control:checked~label.sk-toggleable__label {background-color: #d4ebff;}#sk-container-id-1 input.sk-hidden--visually {border: 0;clip: rect(1px 1px 1px 1px);clip: rect(1px, 1px, 1px, 1px);height: 1px;margin: -1px;overflow: hidden;padding: 0;position: absolute;width: 1px;}#sk-container-id-1 div.sk-estimator {font-family: monospace;background-color: #f0f8ff;border: 1px dotted black;border-radius: 0.25em;box-sizing: border-box;margin-bottom: 0.5em;}#sk-container-id-1 div.sk-estimator:hover {background-color: #d4ebff;}#sk-container-id-1 div.sk-parallel-item::after {content: \"\";width: 100%;border-bottom: 1px solid gray;flex-grow: 1;}#sk-container-id-1 div.sk-label:hover label.sk-toggleable__label {background-color: #d4ebff;}#sk-container-id-1 div.sk-serial::before {content: \"\";position: absolute;border-left: 1px solid gray;box-sizing: border-box;top: 0;bottom: 0;left: 50%;z-index: 0;}#sk-container-id-1 div.sk-serial {display: flex;flex-direction: column;align-items: center;background-color: white;padding-right: 0.2em;padding-left: 0.2em;position: relative;}#sk-container-id-1 div.sk-item {position: relative;z-index: 1;}#sk-container-id-1 div.sk-parallel {display: flex;align-items: stretch;justify-content: center;background-color: white;position: relative;}#sk-container-id-1 div.sk-item::before, #sk-container-id-1 div.sk-parallel-item::before {content: \"\";position: absolute;border-left: 1px solid gray;box-sizing: border-box;top: 0;bottom: 0;left: 50%;z-index: -1;}#sk-container-id-1 div.sk-parallel-item {display: flex;flex-direction: column;z-index: 1;position: relative;background-color: white;}#sk-container-id-1 div.sk-parallel-item:first-child::after {align-self: flex-end;width: 50%;}#sk-container-id-1 div.sk-parallel-item:last-child::after {align-self: flex-start;width: 50%;}#sk-container-id-1 div.sk-parallel-item:only-child::after {width: 0;}#sk-container-id-1 div.sk-dashed-wrapped {border: 1px dashed gray;margin: 0 0.4em 0.5em 0.4em;box-sizing: border-box;padding-bottom: 0.4em;background-color: white;}#sk-container-id-1 div.sk-label label {font-family: monospace;font-weight: bold;display: inline-block;line-height: 1.2em;}#sk-container-id-1 div.sk-label-container {text-align: center;}#sk-container-id-1 div.sk-container {/* jupyter's `normalize.less` sets `[hidden] { display: none; }` but bootstrap.min.css set `[hidden] { display: none !important; }` so we also need the `!important` here to be able to override the default hidden behavior on the sphinx rendered scikit-learn.org. See: https://github.com/scikit-learn/scikit-learn/issues/21755 */display: inline-block !important;position: relative;}#sk-container-id-1 div.sk-text-repr-fallback {display: none;}</style><div id=\"sk-container-id-1\" class=\"sk-top-container\"><div class=\"sk-text-repr-fallback\"><pre>LinearRegression()</pre><b>In a Jupyter environment, please rerun this cell to show the HTML representation or trust the notebook. <br />On GitHub, the HTML representation is unable to render, please try loading this page with nbviewer.org.</b></div><div class=\"sk-container\" hidden><div class=\"sk-item\"><div class=\"sk-estimator sk-toggleable\"><input class=\"sk-toggleable__control sk-hidden--visually\" id=\"sk-estimator-id-1\" type=\"checkbox\" checked><label for=\"sk-estimator-id-1\" class=\"sk-toggleable__label sk-toggleable__label-arrow\">LinearRegression</label><div class=\"sk-toggleable__content\"><pre>LinearRegression()</pre></div></div></div></div></div>"
      ],
      "text/plain": [
       "LinearRegression()"
      ]
     },
     "execution_count": 35,
     "metadata": {},
     "output_type": "execute_result"
    }
   ],
   "source": [
    "model = LinearRegression()\n",
    "model.fit(x_train,y_train)"
   ]
  },
  {
   "cell_type": "code",
   "execution_count": 37,
   "id": "2d44ea6a-eb01-48c4-b1bf-c2d2601d5c43",
   "metadata": {},
   "outputs": [
    {
     "data": {
      "text/plain": [
       "((13874, 17), (13874,))"
      ]
     },
     "execution_count": 37,
     "metadata": {},
     "output_type": "execute_result"
    }
   ],
   "source": [
    "x_pred = model.predict(x_train)\n",
    "y_pred = model.predict(x_test)\n",
    "x_train.shape,x_pred.shape"
   ]
  },
  {
   "cell_type": "code",
   "execution_count": 39,
   "id": "52367219-21ab-4068-af36-22162775c538",
   "metadata": {},
   "outputs": [
    {
     "data": {
      "text/plain": [
       "array([ 7.24751762e+11, -2.47348741e-01, -2.32898697e-01,  7.38136070e-02,\n",
       "        4.70475044e-02,  7.24751762e+11,  6.62637674e-02,  8.58901109e-01,\n",
       "       -7.12769206e-03, -7.04284548e-03,  6.92402180e-03,  1.32892594e-01,\n",
       "        1.49241411e-02, -6.86786770e-03, -3.65173051e-03, -1.62307115e-02,\n",
       "       -2.35864864e-02])"
      ]
     },
     "execution_count": 39,
     "metadata": {},
     "output_type": "execute_result"
    }
   ],
   "source": [
    "model.coef_"
   ]
  },
  {
   "cell_type": "code",
   "execution_count": 41,
   "id": "49930209-3c7a-4cbe-8958-12f598781d81",
   "metadata": {},
   "outputs": [
    {
     "data": {
      "text/plain": [
       "-724751761837.9122"
      ]
     },
     "execution_count": 41,
     "metadata": {},
     "output_type": "execute_result"
    }
   ],
   "source": [
    "model.intercept_"
   ]
  },
  {
   "cell_type": "code",
   "execution_count": 43,
   "id": "eb26eefa-39c7-4854-bbcf-11404f97637f",
   "metadata": {},
   "outputs": [
    {
     "name": "stderr",
     "output_type": "stream",
     "text": [
      "No artists with labels found to put in legend.  Note that artists whose label start with an underscore are ignored when legend() is called with no argument.\n"
     ]
    },
    {
     "data": {
      "image/png": "[encoded data removed]",
      "text/plain": [
       "<Figure size 640x480 with 1 Axes>"
      ]
     },
     "metadata": {},
     "output_type": "display_data"
    }
   ],
   "source": [
    "fig = plt.figure()\n",
    "plt.scatter(y_pred,y_test)\n",
    "plt.legend()\n",
    "plt.show()\n"
   ]
  },
  {
   "cell_type": "code",
   "execution_count": 45,
   "id": "57e88d4d-a09d-42ed-9742-6b4d7d98a31f",
   "metadata": {},
   "outputs": [],
   "source": [
    "import seaborn as sns"
   ]
  },
  {
   "cell_type": "code",
   "execution_count": 47,
   "id": "1939a3c9-664e-4464-b5b1-4448dc9fc656",
   "metadata": {},
   "outputs": [
    {
     "data": {
      "text/plain": [
       "(array([ 0,  1,  2,  3,  4,  5,  6,  7,  8,  9, 10, 11, 12, 13, 14, 15, 16]),\n",
       " [Text(0, 0, 'year'),\n",
       "  Text(1, 0, 'km_driven'),\n",
       "  Text(2, 0, 'mileage'),\n",
       "  Text(3, 0, 'engine'),\n",
       "  Text(4, 0, 'max_power'),\n",
       "  Text(5, 0, 'age'),\n",
       "  Text(6, 0, 'make'),\n",
       "  Text(7, 0, 'model'),\n",
       "  Text(8, 0, 'Individual'),\n",
       "  Text(9, 0, 'Trustmark Dealer'),\n",
       "  Text(10, 0, 'Diesel'),\n",
       "  Text(11, 0, 'Electric'),\n",
       "  Text(12, 0, 'LPG'),\n",
       "  Text(13, 0, 'Petrol'),\n",
       "  Text(14, 0, 'Manual'),\n",
       "  Text(15, 0, '5'),\n",
       "  Text(16, 0, '>5')])"
      ]
     },
     "execution_count": 47,
     "metadata": {},
     "output_type": "execute_result"
    },
    {
     "data": {
      "image/png": "[encoded data removed]",
      "text/plain": [
       "<Figure size 640x480 with 1 Axes>"
      ]
     },
     "metadata": {},
     "output_type": "display_data"
    }
   ],
   "source": [
    "imp = pd.DataFrame(list(zip(x_test.columns,np.abs(model.coef_))),columns = ['feature','coeff'])\n",
    "sns.barplot(x = 'feature', y = 'coeff',data = imp)\n",
    "plt.xticks(rotation = 90)"
   ]
  },
  {
   "cell_type": "code",
   "execution_count": null,
   "id": "5931a57e-4087-42fb-ac0e-9889ce8b3d66",
   "metadata": {},
   "outputs": [],
   "source": [
    "#zip command is used to pack the diff datatypes together "
   ]
  },
  {
   "cell_type": "code",
   "execution_count": 16,
   "id": "51db0b59-a860-47e4-8738-2cb23f45e04b",
   "metadata": {},
   "outputs": [],
   "source": [
    "#defination R**2  meteric it is measure of how much variants in the data is captured by the regression line"
   ]
  },
  {
   "cell_type": "code",
   "execution_count": 18,
   "id": "135171e4-6cef-4814-8d62-8df502b581e9",
   "metadata": {},
   "outputs": [
    {
     "data": {
      "text/plain": [
       "Index(['selling_price', 'year', 'km_driven', 'mileage', 'engine', 'max_power',\n",
       "       'age', 'make', 'model', 'Individual', 'Trustmark Dealer', 'Diesel',\n",
       "       'Electric', 'LPG', 'Petrol', 'Manual', '5', '>5'],\n",
       "      dtype='object')"
      ]
     },
     "execution_count": 18,
     "metadata": {},
     "output_type": "execute_result"
    }
   ],
   "source": [
    "df.columns"
   ]
  },
  {
   "cell_type": "code",
   "execution_count": 41,
   "id": "1a820e5c-8205-46dc-9192-ca81c8e3817e",
   "metadata": {},
   "outputs": [],
   "source": [
    "from sklearn.preprocessing import MinMaxScaler"
   ]
  },
  {
   "cell_type": "code",
   "execution_count": null,
   "id": "d7f1621e-1a3c-4aa0-97da-1d0ab541d911",
   "metadata": {},
   "outputs": [],
   "source": [
    "df1[\"make\"] = df.groupby(\"make\")[\"target row\"].transform(\"mean\")\n",
    "scaler = MinMaxScaler()\n",
    "df1 = pd.DateFrame(scaler.fit_transform(df),columns = df.columns)"
   ]
  }
 ],
 "metadata": {
  "kernelspec": {
   "display_name": "Python 3 (ipykernel)",
   "language": "python",
   "name": "python3"
  },
  "language_info": {
   "codemirror_mode": {
    "name": "ipython",
    "version": 3
   },
   "file_extension": ".py",
   "mimetype": "text/x-python",
   "name": "python",
   "nbconvert_exporter": "python",
   "pygments_lexer": "ipython3",
   "version": "3.11.7"
  }
 },
 "nbformat": 4,
 "nbformat_minor": 5
}
